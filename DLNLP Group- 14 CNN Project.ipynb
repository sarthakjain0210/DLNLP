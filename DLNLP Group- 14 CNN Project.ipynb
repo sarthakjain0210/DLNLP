{
 "cells": [
  {
   "cell_type": "markdown",
   "id": "a0c4d0f7",
   "metadata": {},
   "source": [
    "# Chess piece classification"
   ]
  },
  {
   "cell_type": "markdown",
   "id": "49c22f68",
   "metadata": {},
   "source": [
    "GROUP - 14\n",
    "\n",
    "Anisha Siwas - 025007\n",
    "\n",
    "Sarthak Jain - 025029\n",
    "\n",
    "Tanya Goel - 025034\n",
    "\n",
    "Chirayu Jain - 025049"
   ]
  },
  {
   "cell_type": "code",
   "execution_count": 1,
   "id": "883b87db",
   "metadata": {},
   "outputs": [],
   "source": [
    "#Importing the libraries\n",
    "import tensorflow as tf\n",
    "from keras.preprocessing.image import ImageDataGenerator"
   ]
  },
  {
   "cell_type": "code",
   "execution_count": 2,
   "id": "5c11a9a9",
   "metadata": {},
   "outputs": [
    {
     "name": "stdout",
     "output_type": "stream",
     "text": [
      "Found 476 images belonging to 5 classes.\n"
     ]
    }
   ],
   "source": [
    "#Preprocessing the Training set\n",
    "train_datagen = ImageDataGenerator(rescale = 1./255,\n",
    "                                   shear_range = 0.2,\n",
    "                                   zoom_range = 0.2,\n",
    "                                   horizontal_flip = True)\n",
    "Training_set = train_datagen.flow_from_directory('C://Users//Sarthak Jain//Downloads//Chessman-image-dataset//Training_set',\n",
    "                                                 target_size = (64, 64),\n",
    "                                                 batch_size = 32,\n",
    "                                                 class_mode = 'categorical')"
   ]
  },
  {
   "cell_type": "code",
   "execution_count": 3,
   "id": "469f1b0a",
   "metadata": {},
   "outputs": [
    {
     "name": "stdout",
     "output_type": "stream",
     "text": [
      "Found 651 images belonging to 5 classes.\n"
     ]
    }
   ],
   "source": [
    "#Preprocessing the Test set\n",
    "test_datagen = ImageDataGenerator(rescale = 1./255)\n",
    "test_set = test_datagen.flow_from_directory('C://Users//Sarthak Jain//Downloads//Chessman-image-dataset//Test_set',\n",
    "                                            target_size = (64, 64),\n",
    "                                            batch_size = 32,\n",
    "                                            class_mode = 'categorical')"
   ]
  },
  {
   "cell_type": "code",
   "execution_count": 4,
   "id": "4c79fb67",
   "metadata": {},
   "outputs": [],
   "source": [
    "#Initialising the CNN\n",
    "cnn = tf.keras.models.Sequential()"
   ]
  },
  {
   "cell_type": "code",
   "execution_count": 5,
   "id": "43fdf213",
   "metadata": {},
   "outputs": [],
   "source": [
    "#Step 1 - Convolution\n",
    "cnn.add(tf.keras.layers.Conv2D(filters=32, kernel_size=3, activation='relu', input_shape=[64, 64, 3]))"
   ]
  },
  {
   "cell_type": "code",
   "execution_count": 6,
   "id": "f855639d",
   "metadata": {},
   "outputs": [],
   "source": [
    "#Step 2 - Pooling\n",
    "cnn.add(tf.keras.layers.MaxPool2D(pool_size=2, strides=2))"
   ]
  },
  {
   "cell_type": "code",
   "execution_count": 7,
   "id": "83e6df32",
   "metadata": {},
   "outputs": [],
   "source": [
    "#Adding a second convolutional layer\n",
    "cnn.add(tf.keras.layers.Conv2D(filters=32, kernel_size=3, activation='relu'))\n",
    "cnn.add(tf.keras.layers.MaxPool2D(pool_size=2, strides=2))"
   ]
  },
  {
   "cell_type": "code",
   "execution_count": 8,
   "id": "d0d089b5",
   "metadata": {},
   "outputs": [],
   "source": [
    "#Step 3 - Flattening\n",
    "cnn.add(tf.keras.layers.Flatten())"
   ]
  },
  {
   "cell_type": "code",
   "execution_count": 9,
   "id": "fbf6d65b",
   "metadata": {},
   "outputs": [],
   "source": [
    "#Step 4 - Full Connection\n",
    "cnn.add(tf.keras.layers.Dense(units=128, activation='relu'))"
   ]
  },
  {
   "cell_type": "code",
   "execution_count": 10,
   "id": "c0384c8e",
   "metadata": {},
   "outputs": [],
   "source": [
    "#Step 5 - Output Layer\n",
    "cnn.add(tf.keras.layers.Dense(units=1, activation='sigmoid'))"
   ]
  },
  {
   "cell_type": "code",
   "execution_count": 11,
   "id": "0dfd1461",
   "metadata": {},
   "outputs": [],
   "source": [
    "#Compiling the CNN\n",
    "cnn.compile(optimizer = 'adam', loss = 'binary_crossentropy', metrics = ['accuracy'])"
   ]
  },
  {
   "cell_type": "code",
   "execution_count": 12,
   "id": "413daca6",
   "metadata": {},
   "outputs": [
    {
     "name": "stdout",
     "output_type": "stream",
     "text": [
      "Epoch 1/25\n",
      "15/15 [==============================] - 9s 513ms/step - loss: 0.5509 - accuracy: 0.7748 - val_loss: 0.5197 - val_accuracy: 0.8000\n",
      "Epoch 2/25\n",
      "15/15 [==============================] - 7s 454ms/step - loss: 0.5092 - accuracy: 0.8000 - val_loss: 0.5089 - val_accuracy: 0.8000\n",
      "Epoch 3/25\n",
      "15/15 [==============================] - 7s 452ms/step - loss: 0.5055 - accuracy: 0.8000 - val_loss: 0.5077 - val_accuracy: 0.8000\n",
      "Epoch 4/25\n",
      "15/15 [==============================] - 7s 430ms/step - loss: 0.5037 - accuracy: 0.8000 - val_loss: 0.5048 - val_accuracy: 0.8000\n",
      "Epoch 5/25\n",
      "15/15 [==============================] - 7s 449ms/step - loss: 0.5018 - accuracy: 0.8000 - val_loss: 0.5035 - val_accuracy: 0.8000\n",
      "Epoch 6/25\n",
      "15/15 [==============================] - 7s 442ms/step - loss: 0.5011 - accuracy: 0.8000 - val_loss: 0.5033 - val_accuracy: 0.8000\n",
      "Epoch 7/25\n",
      "15/15 [==============================] - 7s 446ms/step - loss: 0.5008 - accuracy: 0.8000 - val_loss: 0.5031 - val_accuracy: 0.8000\n",
      "Epoch 8/25\n",
      "15/15 [==============================] - 7s 439ms/step - loss: 0.5007 - accuracy: 0.8000 - val_loss: 0.5030 - val_accuracy: 0.8000\n",
      "Epoch 9/25\n",
      "15/15 [==============================] - 7s 450ms/step - loss: 0.5007 - accuracy: 0.8000 - val_loss: 0.5028 - val_accuracy: 0.8000\n",
      "Epoch 10/25\n",
      "15/15 [==============================] - 7s 447ms/step - loss: 0.5008 - accuracy: 0.8000 - val_loss: 0.5028 - val_accuracy: 0.8000\n",
      "Epoch 11/25\n",
      "15/15 [==============================] - 7s 437ms/step - loss: 0.5007 - accuracy: 0.8000 - val_loss: 0.5027 - val_accuracy: 0.8000\n",
      "Epoch 12/25\n",
      "15/15 [==============================] - 7s 440ms/step - loss: 0.5006 - accuracy: 0.8000 - val_loss: 0.5027 - val_accuracy: 0.8000\n",
      "Epoch 13/25\n",
      "15/15 [==============================] - 7s 445ms/step - loss: 0.5006 - accuracy: 0.8000 - val_loss: 0.5025 - val_accuracy: 0.8000\n",
      "Epoch 14/25\n",
      "15/15 [==============================] - 7s 441ms/step - loss: 0.5005 - accuracy: 0.8000 - val_loss: 0.5024 - val_accuracy: 0.8000\n",
      "Epoch 15/25\n",
      "15/15 [==============================] - 7s 444ms/step - loss: 0.5005 - accuracy: 0.8000 - val_loss: 0.5023 - val_accuracy: 0.8000\n",
      "Epoch 16/25\n",
      "15/15 [==============================] - 7s 445ms/step - loss: 0.5005 - accuracy: 0.8000 - val_loss: 0.5023 - val_accuracy: 0.8000\n",
      "Epoch 17/25\n",
      "15/15 [==============================] - 7s 453ms/step - loss: 0.5005 - accuracy: 0.8000 - val_loss: 0.5023 - val_accuracy: 0.8000\n",
      "Epoch 18/25\n",
      "15/15 [==============================] - 7s 475ms/step - loss: 0.5005 - accuracy: 0.8000 - val_loss: 0.5023 - val_accuracy: 0.8000\n",
      "Epoch 19/25\n",
      "15/15 [==============================] - 7s 453ms/step - loss: 0.5005 - accuracy: 0.8000 - val_loss: 0.5022 - val_accuracy: 0.8000\n",
      "Epoch 20/25\n",
      "15/15 [==============================] - 7s 441ms/step - loss: 0.5005 - accuracy: 0.8000 - val_loss: 0.5022 - val_accuracy: 0.8000\n",
      "Epoch 21/25\n",
      "15/15 [==============================] - 7s 445ms/step - loss: 0.5005 - accuracy: 0.8000 - val_loss: 0.5022 - val_accuracy: 0.8000\n",
      "Epoch 22/25\n",
      "15/15 [==============================] - 7s 444ms/step - loss: 0.5006 - accuracy: 0.8000 - val_loss: 0.5022 - val_accuracy: 0.8000\n",
      "Epoch 23/25\n",
      "15/15 [==============================] - 7s 441ms/step - loss: 0.5005 - accuracy: 0.8000 - val_loss: 0.5021 - val_accuracy: 0.8000\n",
      "Epoch 24/25\n",
      "15/15 [==============================] - 7s 459ms/step - loss: 0.5005 - accuracy: 0.8000 - val_loss: 0.5023 - val_accuracy: 0.8000\n",
      "Epoch 25/25\n",
      "15/15 [==============================] - 7s 433ms/step - loss: 0.5005 - accuracy: 0.8000 - val_loss: 0.5022 - val_accuracy: 0.8000\n"
     ]
    },
    {
     "data": {
      "text/plain": [
       "<keras.callbacks.History at 0x2a05af05a00>"
      ]
     },
     "execution_count": 12,
     "metadata": {},
     "output_type": "execute_result"
    }
   ],
   "source": [
    "#Training the CNN on the Training set and evaluating it on the Test set\n",
    "cnn.fit(x = Training_set, validation_data = test_set, epochs = 25)\n"
   ]
  },
  {
   "cell_type": "code",
   "execution_count": 14,
   "id": "1c1e4675",
   "metadata": {},
   "outputs": [
    {
     "name": "stdout",
     "output_type": "stream",
     "text": [
      "1/1 [==============================] - 0s 116ms/step\n"
     ]
    }
   ],
   "source": [
    "#Part 4 - Making a single prediction\n",
    "import numpy as np\n",
    "from keras.preprocessing import image\n",
    "test_image = tf.keras.preprocessing.image.load_img('C:/Users/Sarthak Jain/Desktop/aa.png', target_size = (64, 64))\n",
    "test_image = tf.keras.preprocessing.image.img_to_array(test_image)\n",
    "test_image = np.expand_dims(test_image, axis = 0)\n",
    "result = cnn.predict(test_image)\n",
    "Training_set.class_indices\n",
    "if result[0][0] == 0:\n",
    "  prediction = 'bishop'\n",
    "elif result[0][0] == 1:\n",
    "  prediction = 'knight'\n",
    "elif result[0][0] == 2:\n",
    "  prediction = 'pawn'\n",
    "elif result[0][0] == 3:\n",
    "  prediction = 'queen'\n",
    "else:\n",
    "  prediction = 'rook'"
   ]
  },
  {
   "cell_type": "code",
   "execution_count": 15,
   "id": "65e0d0bf",
   "metadata": {},
   "outputs": [
    {
     "name": "stdout",
     "output_type": "stream",
     "text": [
      "rook\n"
     ]
    }
   ],
   "source": [
    "print(prediction)"
   ]
  },
  {
   "cell_type": "code",
   "execution_count": null,
   "id": "d267cc45",
   "metadata": {},
   "outputs": [],
   "source": []
  }
 ],
 "metadata": {
  "kernelspec": {
   "display_name": "Python 3",
   "language": "python",
   "name": "python3"
  },
  "language_info": {
   "codemirror_mode": {
    "name": "ipython",
    "version": 3
   },
   "file_extension": ".py",
   "mimetype": "text/x-python",
   "name": "python",
   "nbconvert_exporter": "python",
   "pygments_lexer": "ipython3",
   "version": "3.8.8"
  }
 },
 "nbformat": 4,
 "nbformat_minor": 5
}
